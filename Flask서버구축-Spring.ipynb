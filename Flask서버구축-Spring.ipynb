{
 "cells": [
  {
   "cell_type": "markdown",
   "metadata": {},
   "source": [
    "# Flask란?\n",
    " - python을 활용한 웹 프레임워크로 단순한 코드로 쉽게 개발이 가능\n",
    " - Flask 설치"
   ]
  },
  {
   "cell_type": "code",
   "execution_count": 1,
   "metadata": {},
   "outputs": [
    {
     "name": "stdout",
     "output_type": "stream",
     "text": [
      "Requirement already satisfied: flask in c:\\users\\user\\anaconda3\\lib\\site-packages (2.2.5)\n",
      "Requirement already satisfied: Werkzeug>=2.2.2 in c:\\users\\user\\anaconda3\\lib\\site-packages (from flask) (2.2.3)\n",
      "Requirement already satisfied: Jinja2>=3.0 in c:\\users\\user\\anaconda3\\lib\\site-packages (from flask) (3.1.3)\n",
      "Requirement already satisfied: itsdangerous>=2.0 in c:\\users\\user\\anaconda3\\lib\\site-packages (from flask) (2.0.1)\n",
      "Requirement already satisfied: click>=8.0 in c:\\users\\user\\anaconda3\\lib\\site-packages (from flask) (8.1.7)\n",
      "Requirement already satisfied: colorama in c:\\users\\user\\anaconda3\\lib\\site-packages (from click>=8.0->flask) (0.4.6)\n",
      "Requirement already satisfied: MarkupSafe>=2.0 in c:\\users\\user\\anaconda3\\lib\\site-packages (from Jinja2>=3.0->flask) (2.1.3)\n"
     ]
    }
   ],
   "source": [
    "!pip install flask"
   ]
  },
  {
   "cell_type": "markdown",
   "metadata": {},
   "source": [
    "# Flask 구조"
   ]
  },
  {
   "cell_type": "code",
   "execution_count": 1,
   "metadata": {},
   "outputs": [
    {
     "name": "stdout",
     "output_type": "stream",
     "text": [
      " * Serving Flask app '__main__'\n",
      " * Debug mode: off\n"
     ]
    },
    {
     "name": "stderr",
     "output_type": "stream",
     "text": [
      "WARNING: This is a development server. Do not use it in a production deployment. Use a production WSGI server instead.\n",
      " * Running on http://127.0.0.1:5000\n",
      "Press CTRL+C to quit\n",
      "[2024-08-29 16:04:25,327] ERROR in app: Exception on /test [GET]\n",
      "Traceback (most recent call last):\n",
      "  File \"C:\\Users\\USER\\anaconda3\\Lib\\site-packages\\flask\\app.py\", line 2529, in wsgi_app\n",
      "    response = self.full_dispatch_request()\n",
      "               ^^^^^^^^^^^^^^^^^^^^^^^^^^^^\n",
      "  File \"C:\\Users\\USER\\anaconda3\\Lib\\site-packages\\flask\\app.py\", line 1825, in full_dispatch_request\n",
      "    rv = self.handle_user_exception(e)\n",
      "         ^^^^^^^^^^^^^^^^^^^^^^^^^^^^^\n",
      "  File \"C:\\Users\\USER\\anaconda3\\Lib\\site-packages\\flask\\app.py\", line 1823, in full_dispatch_request\n",
      "    rv = self.dispatch_request()\n",
      "         ^^^^^^^^^^^^^^^^^^^^^^^\n",
      "  File \"C:\\Users\\USER\\anaconda3\\Lib\\site-packages\\flask\\app.py\", line 1799, in dispatch_request\n",
      "    return self.ensure_sync(self.view_functions[rule.endpoint])(**view_args)\n",
      "           ^^^^^^^^^^^^^^^^^^^^^^^^^^^^^^^^^^^^^^^^^^^^^^^^^^^^^^^^^^^^^^^^^\n",
      "  File \"C:\\Users\\USER\\AppData\\Local\\Temp\\ipykernel_1524\\1032326031.py\", line 40, in index\n",
      "    response = requests.post(url, data=json.dumps(data), headers=headers)\n",
      "                                                  ^^^^\n",
      "NameError: name 'data' is not defined\n",
      "127.0.0.1 - - [29/Aug/2024 16:04:25] \"GET /test?choice=I&id=123 HTTP/1.1\" 500 -\n",
      "127.0.0.1 - - [29/Aug/2024 16:04:25] \"GET /favicon.ico HTTP/1.1\" 404 -\n"
     ]
    },
    {
     "name": "stdout",
     "output_type": "stream",
     "text": [
      "GET방식\n",
      "123 I\n",
      "{\"id\": \"123\", \"choice\": \"I\", \"mbti\": \"ISFP\"}\n"
     ]
    }
   ],
   "source": [
    "from flask import Flask, request\n",
    "import requests\n",
    "from flask import redirect\n",
    "import json\n",
    "\n",
    "app = Flask(__name__) # flask 서버객체 생성\n",
    " \n",
    "# route(경로): 외부에서 접근할 때 페이지 구분을 위한 경로지정\n",
    "@app.route('/test', methods=['GET','POST'])\n",
    "def index():\n",
    "    print(request.method+\"방식\")\n",
    "    if request.method == 'GET':\n",
    "        choice = request.args['choice'] #request.args : URL 쿼리 스트링 안의 키/값 쌍\n",
    "        userid = request.args['id'] \n",
    "    else:\n",
    "        choice = request.form['choice'] #request.form : HTML POST 폼의 body 안의 키/값 쌍\n",
    "        userid = request.form['id']\n",
    "        \n",
    "    print(userid, choice)\n",
    "        \n",
    "    # mbti 예측 로직 구현\n",
    "    if choice == 'I':\n",
    "        mbti = 'ISFP'\n",
    "    else:\n",
    "        mbti = 'ESFP'\n",
    "\n",
    "    url = \"http://localhost:8081/SpringBoot1/mbti?id={}&choice={}&mbti={}\".format(userid, choice, mbti)\n",
    "    print(url)\n",
    "    return redirect(url)\n",
    "\n",
    "    # url = \"http://localhost:8081/SpringBoot1/mbti\"\n",
    "    # result = json.dumps({'id' : userid, 'choice' : choice, 'mbti' : mbti})\n",
    "    # print(result)\n",
    "    # return requests.post(url, json=result)\n",
    "\n",
    "    # url = \"http://localhost:8081/SpringBoot1/mbti\"\n",
    "    # result = json.dumps({'id' : userid, 'choice' : choice, 'mbti' : mbti})\n",
    "    # print(result)\n",
    "    # headers = {'Content-Type': 'application/json'}\n",
    "    # response = requests.post(url, data=json.dumps(data), headers=headers)\n",
    "    # return jsonify({\"spring_response\": response.json()})\n",
    "\n",
    "    \n",
    "\n",
    "# main함수의 시작을 의미 \n",
    "# 비유하자면 자바의 main(String[] args)메소드와 같은 역할\n",
    "if __name__ == '__main__':\n",
    "    # 웹서버주소(host)와 포트번호(port)를 지정하여 웹 서버 실행\n",
    "    app.run(host='13.209.58.50', port='5000') "
   ]
  },
  {
   "cell_type": "code",
   "execution_count": null,
   "metadata": {},
   "outputs": [],
   "source": []
  },
  {
   "cell_type": "code",
   "execution_count": null,
   "metadata": {},
   "outputs": [],
   "source": []
  }
 ],
 "metadata": {
  "kernelspec": {
   "display_name": "Python 3 (ipykernel)",
   "language": "python",
   "name": "python3"
  },
  "language_info": {
   "codemirror_mode": {
    "name": "ipython",
    "version": 3
   },
   "file_extension": ".py",
   "mimetype": "text/x-python",
   "name": "python",
   "nbconvert_exporter": "python",
   "pygments_lexer": "ipython3",
   "version": "3.11.7"
  }
 },
 "nbformat": 4,
 "nbformat_minor": 4
}
